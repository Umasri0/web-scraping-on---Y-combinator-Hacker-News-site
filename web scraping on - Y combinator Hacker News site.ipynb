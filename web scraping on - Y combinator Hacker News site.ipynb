{
 "cells": [
  {
   "cell_type": "code",
   "execution_count": 4,
   "id": "15e5bf0e",
   "metadata": {},
   "outputs": [],
   "source": [
    "from bs4 import BeautifulSoup"
   ]
  },
  {
   "cell_type": "code",
   "execution_count": 1,
   "id": "4be6e988",
   "metadata": {},
   "outputs": [],
   "source": [
    "import requests"
   ]
  },
  {
   "cell_type": "code",
   "execution_count": 2,
   "id": "2602393b",
   "metadata": {},
   "outputs": [],
   "source": [
    "response = requests.get(\"https://news.ycombinator.com/news\")"
   ]
  },
  {
   "cell_type": "code",
   "execution_count": 3,
   "id": "74ee199f",
   "metadata": {},
   "outputs": [
    {
     "name": "stdout",
     "output_type": "stream",
     "text": [
      "<html lang=\"en\" op=\"news\"><head><meta name=\"referrer\" content=\"origin\"><meta name=\"viewport\" content=\"width=device-width, initial-scale=1.0\"><link rel=\"stylesheet\" type=\"text/css\" href=\"news.css?MjAzzpP8NY8TwKzaY8wl\">\n",
      "        <link rel=\"shortcut icon\" href=\"favicon.ico\">\n",
      "          <link rel=\"alternate\" type=\"application/rss+xml\" title=\"RSS\" href=\"rss\">\n",
      "        <title>Hacker News</title></head><body><center><table id=\"hnmain\" border=\"0\" cellpadding=\"0\" cellspacing=\"0\" width=\"85%\" bgcolor=\"#f6f6ef\">\n",
      "        <tr><td bgcolor=\"#ff6600\"><table border=\"0\" cellpadding=\"0\" cellspacing=\"0\" width=\"100%\" style=\"padding:2px\"><tr><td style=\"width:18px;padding-right:4px\"><a href=\"https://news.ycombinator.com\"><img src=\"y18.gif\" width=\"18\" height=\"18\" style=\"border:1px white solid;\"></a></td>\n",
      "                  <td style=\"line-height:12pt; height:10px;\"><span class=\"pagetop\"><b class=\"hnname\"><a href=\"news\">Hacker News</a></b>\n",
      "              <a href=\"newest\">new</a> | <a href=\"front\">past</a> | <a href=\"newcomments\">comments</a> | <a href=\"ask\">ask</a> | <a href=\"show\">show</a> | <a href=\"jobs\">jobs</a> | <a href=\"submit\">submit</a>            </span></td><td style=\"text-align:right;padding-right:4px;\"><span class=\"pagetop\">\n",
      "                              <a href=\"login?goto=news\">login</a>\n",
      "                          </span></td>\n",
      "              </tr></table></td></tr>\n",
      "<tr id=\"pagespace\" title=\"\" style=\"height:10px\"></tr><tr><td><table border=\"0\" cellpadding=\"0\" cellspacing=\"0\" class=\"itemlist\">\n",
      "              <tr class='athing' id='31579862'>\n",
      "      <td align=\"right\" valign=\"top\" class=\"title\"><span class=\"rank\">1.</span></td>      <td valign=\"top\" class=\"votelinks\"><center><a id='up_31579862'href='vote?id=31579862&amp;how=up&amp;goto=news'><div class='votearrow' title='upvote'></div></a></center></td><td class=\"title\"><a href=\"https://www.githubstatus.com/incidents/8xxms3q3qzgp\" class=\"titlelink\">GitHub is having another outage</a><span class=\"sitebit comhead\"> (<a href=\"from?site=githubstatus.com\"><span class=\"sitestr\">githubstatus.com</span></a>)</span></td></tr><tr><td colspan=\"2\"></td><td class=\"subtext\">\n",
      "        <span class=\"score\" id=\"score_31579862\">21 points</span> by <a href=\"user?id=cube2222\" class=\"hnuser\">cube2222</a> <span class=\"age\" title=\"2022-06-01T10:00:06\"><a href=\"item?id=31579862\">22 minutes ago</a></span> <span id=\"unv_31579862\"></span> | <a href=\"hide?id=31579862&amp;goto=news\">hide</a> | <a href=\"item?id=31579862\">6&nbsp;comments</a>              </td></tr>\n",
      "      <tr class=\"spacer\" style=\"height:5px\"></tr>\n",
      "                <tr class='athing' id='31579275'>\n",
      "      <td align=\"right\" valign=\"top\" class=\"title\"><span class=\"rank\">2.</span></td>      <td valign=\"top\" class=\"votelinks\"><center><a id='up_31579275'href='vote?id=31579275&amp;how=up&amp;goto=news'><div class='votearrow' title='upvote'></div></a></center></td><td class=\"title\"><a href=\"https://commoncog.com/blog/cash-strapped-hiring/\" class=\"titlelink\">What Good, Cash-Strapped Hiring Looks Like</a><span class=\"sitebit comhead\"> (<a href=\"from?site=commoncog.com\"><span class=\"sitestr\">commoncog.com</span></a>)</span></td></tr><tr><td colspan=\"2\"></td><td class=\"subtext\">\n",
      "        <span class=\"score\" id=\"score_31579275\">62 points</span> by <a href=\"user?id=hunglee2\" class=\"hnuser\">hunglee2</a> <span class=\"age\" title=\"2022-06-01T07:56:10\"><a href=\"item?id=31579275\">2 hours ago</a></span> <span id=\"unv_31579275\"></span> | <a href=\"hide?id=31579275&amp;goto=news\">hide</a> | <a href=\"item?id=31579275\">21&nbsp;comments</a>              </td></tr>\n",
      "      <tr class=\"spacer\" style=\"height:5px\"></tr>\n",
      "                <tr class='athing' id='31577376'>\n",
      "      <td align=\"right\" valign=\"top\" class=\"title\"><span class=\"rank\">3.</span></td>      <td valign=\"top\" class=\"votelinks\"><center><a id='up_31577376'href='vote?id=31577376&amp;how=up&amp;goto=news'><div class='votearrow' title='upvote'></div></a></center></td><td class=\"title\"><a href=\"https://www.nature.com/articles/d41586-022-01516-2\" class=\"titlelink\">Science needs more research software engineers</a><span class=\"sitebit comhead\"> (<a href=\"from?site=nature.com\"><span class=\"sitestr\">nature.com</span></a>)</span></td></tr><tr><td colspan=\"2\"></td><td class=\"subtext\">\n",
      "        <span class=\"score\" id=\"score_31577376\">303 points</span> by <a href=\"user?id=sohkamyung\" class=\"hnuser\">sohkamyung</a> <span class=\"age\" title=\"2022-06-01T02:28:42\"><a href=\"item?id=31577376\">7 hours ago</a></span> <span id=\"unv_31577376\"></span> | <a href=\"hide?id=31577376&amp;goto=news\">hide</a> | <a href=\"item?id=31577376\">167&nbsp;comments</a>              </td></tr>\n",
      "      <tr class=\"spacer\" style=\"height:5px\"></tr>\n",
      "                <tr class='athing' id='31577960'>\n",
      "      <td align=\"right\" valign=\"top\" class=\"title\"><span class=\"rank\">4.</span></td>      <td valign=\"top\" class=\"votelinks\"><center><a id='up_31577960'href='vote?id=31577960&amp;how=up&amp;goto=news'><div class='votearrow' title='upvote'></div></a></center></td><td class=\"title\"><a href=\"https://github.com/anufrievroman/calcure\" class=\"titlelink\">Modern TUI calendar and task manager with customizable interface</a><span class=\"sitebit comhead\"> (<a href=\"from?site=github.com/anufrievroman\"><span class=\"sitestr\">github.com/anufrievroman</span></a>)</span></td></tr><tr><td colspan=\"2\"></td><td class=\"subtext\">\n",
      "        <span class=\"score\" id=\"score_31577960\">121 points</span> by <a href=\"user?id=gballan\" class=\"hnuser\">gballan</a> <span class=\"age\" title=\"2022-06-01T04:08:26\"><a href=\"item?id=31577960\">6 hours ago</a></span> <span id=\"unv_31577960\"></span> | <a href=\"hide?id=31577960&amp;goto=news\">hide</a> | <a href=\"item?id=31577960\">20&nbsp;comments</a>              </td></tr>\n",
      "      <tr class=\"spacer\" style=\"height:5px\"></tr>\n",
      "                <tr class='athing' id='31575909'>\n",
      "      <td align=\"right\" valign=\"top\" class=\"title\"><span class=\"rank\">5.</span></td>      <td valign=\"top\" class=\"votelinks\"><center><a id='up_31575909'href='vote?id=31575909&amp;how=up&amp;goto=news'><div class='votearrow' title='upvote'></div></a></center></td><td class=\"title\"><a href=\"https://wikishootme.toolforge.org/\" class=\"titlelink\">Find Wikipedia photos needed near you</a><span class=\"sitebit comhead\"> (<a href=\"from?site=toolforge.org\"><span class=\"sitestr\">toolforge.org</span></a>)</span></td></tr><tr><td colspan=\"2\"></td><td class=\"subtext\">\n",
      "        <span class=\"score\" id=\"score_31575909\">255 points</span> by <a href=\"user?id=thcipriani\" class=\"hnuser\">thcipriani</a> <span class=\"age\" title=\"2022-05-31T22:56:22\"><a href=\"item?id=31575909\">11 hours ago</a></span> <span id=\"unv_31575909\"></span> | <a href=\"hide?id=31575909&amp;goto=news\">hide</a> | <a href=\"item?id=31575909\">101&nbsp;comments</a>              </td></tr>\n",
      "      <tr class=\"spacer\" style=\"height:5px\"></tr>\n",
      "                <tr class='athing' id='31575765'>\n",
      "      <td align=\"right\" valign=\"top\" class=\"title\"><span class=\"rank\">6.</span></td>      <td valign=\"top\" class=\"votelinks\"><center><a id='up_31575765'href='vote?id=31575765&amp;how=up&amp;goto=news'><div class='votearrow' title='upvote'></div></a></center></td><td class=\"title\"><a href=\"https://www.youtube.com/watch?v=ijRUsxdaLK4\" class=\"titlelink\">Framework laptop water damage repair attempt using partial schematic [video]</a><span class=\"sitebit comhead\"> (<a href=\"from?site=youtube.com\"><span class=\"sitestr\">youtube.com</span></a>)</span></td></tr><tr><td colspan=\"2\"></td><td class=\"subtext\">\n",
      "        <span class=\"score\" id=\"score_31575765\">181 points</span> by <a href=\"user?id=CaliforniaKarl\" class=\"hnuser\">CaliforniaKarl</a> <span class=\"age\" title=\"2022-05-31T22:36:41\"><a href=\"item?id=31575765\">11 hours ago</a></span> <span id=\"unv_31575765\"></span> | <a href=\"hide?id=31575765&amp;goto=news\">hide</a> | <a href=\"item?id=31575765\">169&nbsp;comments</a>              </td></tr>\n",
      "      <tr class=\"spacer\" style=\"height:5px\"></tr>\n",
      "                <tr class='athing' id='31565118'>\n",
      "      <td align=\"right\" valign=\"top\" class=\"title\"><span class=\"rank\">7.</span></td>      <td valign=\"top\" class=\"votelinks\"><center><a id='up_31565118'href='vote?id=31565118&amp;how=up&amp;goto=news'><div class='votearrow' title='upvote'></div></a></center></td><td class=\"title\"><a href=\"https://www.bbc.com/travel/article/20220529-switzerlands-ingenious-cooling-caves\" class=\"titlelink\">Switzerland's Ingenious Cooling Caves</a><span class=\"sitebit comhead\"> (<a href=\"from?site=bbc.com\"><span class=\"sitestr\">bbc.com</span></a>)</span></td></tr><tr><td colspan=\"2\"></td><td class=\"subtext\">\n",
      "        <span class=\"score\" id=\"score_31565118\">16 points</span> by <a href=\"user?id=Hooke\" class=\"hnuser\">Hooke</a> <span class=\"age\" title=\"2022-05-31T00:50:55\"><a href=\"item?id=31565118\">2 hours ago</a></span> <span id=\"unv_31565118\"></span> | <a href=\"hide?id=31565118&amp;goto=news\">hide</a> | <a href=\"item?id=31565118\">3&nbsp;comments</a>              </td></tr>\n",
      "      <tr class=\"spacer\" style=\"height:5px\"></tr>\n",
      "                <tr class='athing' id='31574624'>\n",
      "      <td align=\"right\" valign=\"top\" class=\"title\"><span class=\"rank\">8.</span></td>      <td valign=\"top\" class=\"votelinks\"><center><a id='up_31574624'href='vote?id=31574624&amp;how=up&amp;goto=news'><div class='votearrow' title='upvote'></div></a></center></td><td class=\"title\"><a href=\"https://thume.ca/2020/04/18/telefork-forking-a-process-onto-a-different-computer/\" class=\"titlelink\">Teleforking a Process onto a Different Computer</a><span class=\"sitebit comhead\"> (<a href=\"from?site=thume.ca\"><span class=\"sitestr\">thume.ca</span></a>)</span></td></tr><tr><td colspan=\"2\"></td><td class=\"subtext\">\n",
      "        <span class=\"score\" id=\"score_31574624\">177 points</span> by <a href=\"user?id=kaladin-jasnah\" class=\"hnuser\">kaladin-jasnah</a> <span class=\"age\" title=\"2022-05-31T20:37:46\"><a href=\"item?id=31574624\">13 hours ago</a></span> <span id=\"unv_31574624\"></span> | <a href=\"hide?id=31574624&amp;goto=news\">hide</a> | <a href=\"item?id=31574624\">70&nbsp;comments</a>              </td></tr>\n",
      "      <tr class=\"spacer\" style=\"height:5px\"></tr>\n",
      "                <tr class='athing' id='31577325'>\n",
      "      <td align=\"right\" valign=\"top\" class=\"title\"><span class=\"rank\">9.</span></td>      <td valign=\"top\" class=\"votelinks\"><center><a id='up_31577325'href='vote?id=31577325&amp;how=up&amp;goto=news'><div class='votearrow' title='upvote'></div></a></center></td><td class=\"title\"><a href=\"https://emilycordes.com/facebook/\" class=\"titlelink\">I got hacked and Facebook banned me</a><span class=\"sitebit comhead\"> (<a href=\"from?site=emilycordes.com\"><span class=\"sitestr\">emilycordes.com</span></a>)</span></td></tr><tr><td colspan=\"2\"></td><td class=\"subtext\">\n",
      "        <span class=\"score\" id=\"score_31577325\">216 points</span> by <a href=\"user?id=kzrl\" class=\"hnuser\">kzrl</a> <span class=\"age\" title=\"2022-06-01T02:20:18\"><a href=\"item?id=31577325\">8 hours ago</a></span> <span id=\"unv_31577325\"></span> | <a href=\"hide?id=31577325&amp;goto=news\">hide</a> | <a href=\"item?id=31577325\">193&nbsp;comments</a>              </td></tr>\n",
      "      <tr class=\"spacer\" style=\"height:5px\"></tr>\n",
      "                <tr class='athing' id='31575962'>\n",
      "      <td align=\"right\" valign=\"top\" class=\"title\"><span class=\"rank\">10.</span></td>      <td valign=\"top\" class=\"votelinks\"><center><a id='up_31575962'href='vote?id=31575962&amp;how=up&amp;goto=news'><div class='votearrow' title='upvote'></div></a></center></td><td class=\"title\"><a href=\"https://www.moderncsv.com/beta/\" class=\"titlelink\">Modern CSV Version 2 Beta is now available</a><span class=\"sitebit comhead\"> (<a href=\"from?site=moderncsv.com\"><span class=\"sitestr\">moderncsv.com</span></a>)</span></td></tr><tr><td colspan=\"2\"></td><td class=\"subtext\">\n",
      "        <span class=\"score\" id=\"score_31575962\">141 points</span> by <a href=\"user?id=thejosh\" class=\"hnuser\">thejosh</a> <span class=\"age\" title=\"2022-05-31T23:03:40\"><a href=\"item?id=31575962\">11 hours ago</a></span> <span id=\"unv_31575962\"></span> | <a href=\"hide?id=31575962&amp;goto=news\">hide</a> | <a href=\"item?id=31575962\">64&nbsp;comments</a>              </td></tr>\n",
      "      <tr class=\"spacer\" style=\"height:5px\"></tr>\n",
      "                <tr class='athing' id='31558038'>\n",
      "      <td align=\"right\" valign=\"top\" class=\"title\"><span class=\"rank\">11.</span></td>      <td valign=\"top\" class=\"votelinks\"><center><a id='up_31558038'href='vote?id=31558038&amp;how=up&amp;goto=news'><div class='votearrow' title='upvote'></div></a></center></td><td class=\"title\"><a href=\"https://arstechnica.com/gadgets/2022/05/remembering-apples-newton-30-years-on/\" class=\"titlelink\">Remembering Apple’s Newton, 30 years on</a><span class=\"sitebit comhead\"> (<a href=\"from?site=arstechnica.com\"><span class=\"sitestr\">arstechnica.com</span></a>)</span></td></tr><tr><td colspan=\"2\"></td><td class=\"subtext\">\n",
      "        <span class=\"score\" id=\"score_31558038\">189 points</span> by <a href=\"user?id=kergonath\" class=\"hnuser\">kergonath</a> <span class=\"age\" title=\"2022-05-30T11:53:17\"><a href=\"item?id=31558038\">17 hours ago</a></span> <span id=\"unv_31558038\"></span> | <a href=\"hide?id=31558038&amp;goto=news\">hide</a> | <a href=\"item?id=31558038\">146&nbsp;comments</a>              </td></tr>\n",
      "      <tr class=\"spacer\" style=\"height:5px\"></tr>\n",
      "                <tr class='athing' id='31557835'>\n",
      "      <td align=\"right\" valign=\"top\" class=\"title\"><span class=\"rank\">12.</span></td>      <td valign=\"top\" class=\"votelinks\"><center><a id='up_31557835'href='vote?id=31557835&amp;how=up&amp;goto=news'><div class='votearrow' title='upvote'></div></a></center></td><td class=\"title\"><a href=\"https://brunoscheufler.com/blog/2020-07-04-documenting-design-decisions-using-rfcs-and-adrs\" class=\"titlelink\">Documenting Design Decisions Using RFCs and ADRs (2020)</a><span class=\"sitebit comhead\"> (<a href=\"from?site=brunoscheufler.com\"><span class=\"sitestr\">brunoscheufler.com</span></a>)</span></td></tr><tr><td colspan=\"2\"></td><td class=\"subtext\">\n",
      "        <span class=\"score\" id=\"score_31557835\">44 points</span> by <a href=\"user?id=Inversechi\" class=\"hnuser\">Inversechi</a> <span class=\"age\" title=\"2022-05-30T11:21:51\"><a href=\"item?id=31557835\">7 hours ago</a></span> <span id=\"unv_31557835\"></span> | <a href=\"hide?id=31557835&amp;goto=news\">hide</a> | <a href=\"item?id=31557835\">5&nbsp;comments</a>              </td></tr>\n",
      "      <tr class=\"spacer\" style=\"height:5px\"></tr>\n",
      "                <tr class='athing' id='31578973'>\n",
      "      <td align=\"right\" valign=\"top\" class=\"title\"><span class=\"rank\">13.</span></td>      <td></td><td class=\"title\"><a href=\"https://jobs.lever.co/photoroom/ac3a361b-aa5e-479d-95d6-434d73e6eb33?lever-origin=applied&amp;lever-source%5B%5D=Ycombinator\" class=\"titlelink\" rel=\"nofollow\">PhotoRoom Is Hiring a Senior Web Developer (WebAssembly, WebGL and React) in Paris</a><span class=\"sitebit comhead\"> (<a href=\"from?site=lever.co\"><span class=\"sitestr\">lever.co</span></a>)</span></td></tr><tr><td colspan=\"2\"></td><td class=\"subtext\">\n",
      "        <span class=\"age\" title=\"2022-06-01T07:00:31\"><a href=\"item?id=31578973\">3 hours ago</a></span> | <a href=\"hide?id=31578973&amp;goto=news\">hide</a>      </td></tr>\n",
      "      <tr class=\"spacer\" style=\"height:5px\"></tr>\n",
      "                <tr class='athing' id='31559113'>\n",
      "      <td align=\"right\" valign=\"top\" class=\"title\"><span class=\"rank\">14.</span></td>      <td valign=\"top\" class=\"votelinks\"><center><a id='up_31559113'href='vote?id=31559113&amp;how=up&amp;goto=news'><div class='votearrow' title='upvote'></div></a></center></td><td class=\"title\"><a href=\"http://jamie-wong.com/post/the-pit/\" class=\"titlelink\">The Pit, the Cabin, and the Dance Floor (2020)</a><span class=\"sitebit comhead\"> (<a href=\"from?site=jamie-wong.com\"><span class=\"sitestr\">jamie-wong.com</span></a>)</span></td></tr><tr><td colspan=\"2\"></td><td class=\"subtext\">\n",
      "        <span class=\"score\" id=\"score_31559113\">37 points</span> by <a href=\"user?id=mooreds\" class=\"hnuser\">mooreds</a> <span class=\"age\" title=\"2022-05-30T14:08:18\"><a href=\"item?id=31559113\">6 hours ago</a></span> <span id=\"unv_31559113\"></span> | <a href=\"hide?id=31559113&amp;goto=news\">hide</a> | <a href=\"item?id=31559113\">3&nbsp;comments</a>              </td></tr>\n",
      "      <tr class=\"spacer\" style=\"height:5px\"></tr>\n",
      "                <tr class='athing' id='31579357'>\n",
      "      <td align=\"right\" valign=\"top\" class=\"title\"><span class=\"rank\">15.</span></td>      <td valign=\"top\" class=\"votelinks\"><center><a id='up_31579357'href='vote?id=31579357&amp;how=up&amp;goto=news'><div class='votearrow' title='upvote'></div></a></center></td><td class=\"title\"><a href=\"https://www.ft.com/content/f4b2fa1a-4057-4b10-9f3b-efa57e6bcbac\" class=\"titlelink\">Tech experts urge Washington to resist crypto industry’s influence</a><span class=\"sitebit comhead\"> (<a href=\"from?site=ft.com\"><span class=\"sitestr\">ft.com</span></a>)</span></td></tr><tr><td colspan=\"2\"></td><td class=\"subtext\">\n",
      "        <span class=\"score\" id=\"score_31579357\">36 points</span> by <a href=\"user?id=marban\" class=\"hnuser\">marban</a> <span class=\"age\" title=\"2022-06-01T08:11:58\"><a href=\"item?id=31579357\">2 hours ago</a></span> <span id=\"unv_31579357\"></span> | <a href=\"hide?id=31579357&amp;goto=news\">hide</a> | <a href=\"item?id=31579357\">6&nbsp;comments</a>              </td></tr>\n",
      "      <tr class=\"spacer\" style=\"height:5px\"></tr>\n",
      "                <tr class='athing' id='31576634'>\n",
      "      <td align=\"right\" valign=\"top\" class=\"title\"><span class=\"rank\">16.</span></td>      <td valign=\"top\" class=\"votelinks\"><center><a id='up_31576634'href='vote?id=31576634&amp;how=up&amp;goto=news'><div class='votearrow' title='upvote'></div></a></center></td><td class=\"title\"><a href=\"item?id=31576634\" class=\"titlelink\">Show HN: I made React with a faster Virtual DOM</a></td></tr><tr><td colspan=\"2\"></td><td class=\"subtext\">\n",
      "        <span class=\"score\" id=\"score_31576634\">65 points</span> by <a href=\"user?id=aidenyb\" class=\"hnuser\">aidenyb</a> <span class=\"age\" title=\"2022-06-01T00:34:07\"><a href=\"item?id=31576634\">9 hours ago</a></span> <span id=\"unv_31576634\"></span> | <a href=\"hide?id=31576634&amp;goto=news\">hide</a> | <a href=\"item?id=31576634\">53&nbsp;comments</a>              </td></tr>\n",
      "      <tr class=\"spacer\" style=\"height:5px\"></tr>\n",
      "                <tr class='athing' id='31574125'>\n",
      "      <td align=\"right\" valign=\"top\" class=\"title\"><span class=\"rank\">17.</span></td>      <td valign=\"top\" class=\"votelinks\"><center><a id='up_31574125'href='vote?id=31574125&amp;how=up&amp;goto=news'><div class='votearrow' title='upvote'></div></a></center></td><td class=\"title\"><a href=\"https://terokarvinen.com/2021/calendar-txt/\" class=\"titlelink\">Plain Text Calendar</a><span class=\"sitebit comhead\"> (<a href=\"from?site=terokarvinen.com\"><span class=\"sitestr\">terokarvinen.com</span></a>)</span></td></tr><tr><td colspan=\"2\"></td><td class=\"subtext\">\n",
      "        <span class=\"score\" id=\"score_31574125\">164 points</span> by <a href=\"user?id=gaws\" class=\"hnuser\">gaws</a> <span class=\"age\" title=\"2022-05-31T19:55:07\"><a href=\"item?id=31574125\">14 hours ago</a></span> <span id=\"unv_31574125\"></span> | <a href=\"hide?id=31574125&amp;goto=news\">hide</a> | <a href=\"item?id=31574125\">72&nbsp;comments</a>              </td></tr>\n",
      "      <tr class=\"spacer\" style=\"height:5px\"></tr>\n",
      "                <tr class='athing' id='31574671'>\n",
      "      <td align=\"right\" valign=\"top\" class=\"title\"><span class=\"rank\">18.</span></td>      <td valign=\"top\" class=\"votelinks\"><center><a id='up_31574671'href='vote?id=31574671&amp;how=up&amp;goto=news'><div class='votearrow' title='upvote'></div></a></center></td><td class=\"title\"><a href=\"https://www.legends.solar/\" class=\"titlelink\">Legends Solar – Buy operating solar panels on commercial solar farms</a><span class=\"sitebit comhead\"> (<a href=\"from?site=legends.solar\"><span class=\"sitestr\">legends.solar</span></a>)</span></td></tr><tr><td colspan=\"2\"></td><td class=\"subtext\">\n",
      "        <span class=\"score\" id=\"score_31574671\">163 points</span> by <a href=\"user?id=justicz\" class=\"hnuser\">justicz</a> <span class=\"age\" title=\"2022-05-31T20:40:34\"><a href=\"item?id=31574671\">13 hours ago</a></span> <span id=\"unv_31574671\"></span> | <a href=\"hide?id=31574671&amp;goto=news\">hide</a> | <a href=\"item?id=31574671\">151&nbsp;comments</a>              </td></tr>\n",
      "      <tr class=\"spacer\" style=\"height:5px\"></tr>\n",
      "                <tr class='athing' id='31569482'>\n",
      "      <td align=\"right\" valign=\"top\" class=\"title\"><span class=\"rank\">19.</span></td>      <td valign=\"top\" class=\"votelinks\"><center><a id='up_31569482'href='vote?id=31569482&amp;how=up&amp;goto=news'><div class='votearrow' title='upvote'></div></a></center></td><td class=\"title\"><a href=\"https://serokell.io/blog/lunatic-with-bernard-kolobara\" class=\"titlelink\">Lunatic brings Erlang's principles to WebAssembly</a><span class=\"sitebit comhead\"> (<a href=\"from?site=serokell.io\"><span class=\"sitestr\">serokell.io</span></a>)</span></td></tr><tr><td colspan=\"2\"></td><td class=\"subtext\">\n",
      "        <span class=\"score\" id=\"score_31569482\">120 points</span> by <a href=\"user?id=aroccoli\" class=\"hnuser\">aroccoli</a> <span class=\"age\" title=\"2022-05-31T13:52:46\"><a href=\"item?id=31569482\">13 hours ago</a></span> <span id=\"unv_31569482\"></span> | <a href=\"hide?id=31569482&amp;goto=news\">hide</a> | <a href=\"item?id=31569482\">27&nbsp;comments</a>              </td></tr>\n",
      "      <tr class=\"spacer\" style=\"height:5px\"></tr>\n",
      "                <tr class='athing' id='31557041'>\n",
      "      <td align=\"right\" valign=\"top\" class=\"title\"><span class=\"rank\">20.</span></td>      <td valign=\"top\" class=\"votelinks\"><center><a id='up_31557041'href='vote?id=31557041&amp;how=up&amp;goto=news'><div class='votearrow' title='upvote'></div></a></center></td><td class=\"title\"><a href=\"http://blog.notdot.net/2012/10/Build-your-own-FPGA\" class=\"titlelink\" rel=\"nofollow\">Build your own FPGA (2012)</a><span class=\"sitebit comhead\"> (<a href=\"from?site=notdot.net\"><span class=\"sitestr\">notdot.net</span></a>)</span></td></tr><tr><td colspan=\"2\"></td><td class=\"subtext\">\n",
      "        <span class=\"score\" id=\"score_31557041\">3 points</span> by <a href=\"user?id=pabs3\" class=\"hnuser\">pabs3</a> <span class=\"age\" title=\"2022-05-30T09:19:57\"><a href=\"item?id=31557041\">1 hour ago</a></span> <span id=\"unv_31557041\"></span> | <a href=\"hide?id=31557041&amp;goto=news\">hide</a> | <a href=\"item?id=31557041\">discuss</a>              </td></tr>\n",
      "      <tr class=\"spacer\" style=\"height:5px\"></tr>\n",
      "                <tr class='athing' id='31572258'>\n",
      "      <td align=\"right\" valign=\"top\" class=\"title\"><span class=\"rank\">21.</span></td>      <td valign=\"top\" class=\"votelinks\"><center><a id='up_31572258'href='vote?id=31572258&amp;how=up&amp;goto=news'><div class='votearrow' title='upvote'></div></a></center></td><td class=\"title\"><a href=\"https://dontwordle.com/\" class=\"titlelink\">Show HN: Can you lose at Wordle if you tried?</a><span class=\"sitebit comhead\"> (<a href=\"from?site=dontwordle.com\"><span class=\"sitestr\">dontwordle.com</span></a>)</span></td></tr><tr><td colspan=\"2\"></td><td class=\"subtext\">\n",
      "        <span class=\"score\" id=\"score_31572258\">579 points</span> by <a href=\"user?id=dontwordle\" class=\"hnuser\">dontwordle</a> <span class=\"age\" title=\"2022-05-31T17:25:25\"><a href=\"item?id=31572258\">16 hours ago</a></span> <span id=\"unv_31572258\"></span> | <a href=\"hide?id=31572258&amp;goto=news\">hide</a> | <a href=\"item?id=31572258\">204&nbsp;comments</a>              </td></tr>\n",
      "      <tr class=\"spacer\" style=\"height:5px\"></tr>\n",
      "                <tr class='athing' id='31568098'>\n",
      "      <td align=\"right\" valign=\"top\" class=\"title\"><span class=\"rank\">22.</span></td>      <td valign=\"top\" class=\"votelinks\"><center><a id='up_31568098'href='vote?id=31568098&amp;how=up&amp;goto=news'><div class='votearrow' title='upvote'></div></a></center></td><td class=\"title\"><a href=\"https://blog.appsignal.com/2022/05/31/algebraic-data-types-in-elixir.html\" class=\"titlelink\">Algebraic Data Types in Elixir</a><span class=\"sitebit comhead\"> (<a href=\"from?site=appsignal.com\"><span class=\"sitestr\">appsignal.com</span></a>)</span></td></tr><tr><td colspan=\"2\"></td><td class=\"subtext\">\n",
      "        <span class=\"score\" id=\"score_31568098\">63 points</span> by <a href=\"user?id=unripe_syntax\" class=\"hnuser\">unripe_syntax</a> <span class=\"age\" title=\"2022-05-31T10:56:55\"><a href=\"item?id=31568098\">9 hours ago</a></span> <span id=\"unv_31568098\"></span> | <a href=\"hide?id=31568098&amp;goto=news\">hide</a> | <a href=\"item?id=31568098\">15&nbsp;comments</a>              </td></tr>\n",
      "      <tr class=\"spacer\" style=\"height:5px\"></tr>\n",
      "                <tr class='athing' id='31578191'>\n",
      "      <td align=\"right\" valign=\"top\" class=\"title\"><span class=\"rank\">23.</span></td>      <td valign=\"top\" class=\"votelinks\"><center><a id='up_31578191'href='vote?id=31578191&amp;how=up&amp;goto=news'><div class='votearrow' title='upvote'></div></a></center></td><td class=\"title\"><a href=\"https://github.com/pguyot/Einstein\" class=\"titlelink\">Einstein: NewtonOS running on other operating systems</a><span class=\"sitebit comhead\"> (<a href=\"from?site=github.com/pguyot\"><span class=\"sitestr\">github.com/pguyot</span></a>)</span></td></tr><tr><td colspan=\"2\"></td><td class=\"subtext\">\n",
      "        <span class=\"score\" id=\"score_31578191\">61 points</span> by <a href=\"user?id=zdw\" class=\"hnuser\">zdw</a> <span class=\"age\" title=\"2022-06-01T04:46:11\"><a href=\"item?id=31578191\">5 hours ago</a></span> <span id=\"unv_31578191\"></span> | <a href=\"hide?id=31578191&amp;goto=news\">hide</a> | <a href=\"item?id=31578191\">8&nbsp;comments</a>              </td></tr>\n",
      "      <tr class=\"spacer\" style=\"height:5px\"></tr>\n",
      "                <tr class='athing' id='31575429'>\n",
      "      <td align=\"right\" valign=\"top\" class=\"title\"><span class=\"rank\">24.</span></td>      <td valign=\"top\" class=\"votelinks\"><center><a id='up_31575429'href='vote?id=31575429&amp;how=up&amp;goto=news'><div class='votearrow' title='upvote'></div></a></center></td><td class=\"title\"><a href=\"http://www.synack.net/~bbraun/writing/osfail.html\" class=\"titlelink\">Why Darwin failed (2006)</a><span class=\"sitebit comhead\"> (<a href=\"from?site=synack.net\"><span class=\"sitestr\">synack.net</span></a>)</span></td></tr><tr><td colspan=\"2\"></td><td class=\"subtext\">\n",
      "        <span class=\"score\" id=\"score_31575429\">78 points</span> by <a href=\"user?id=jckahn\" class=\"hnuser\">jckahn</a> <span class=\"age\" title=\"2022-05-31T21:55:30\"><a href=\"item?id=31575429\">12 hours ago</a></span> <span id=\"unv_31575429\"></span> | <a href=\"hide?id=31575429&amp;goto=news\">hide</a> | <a href=\"item?id=31575429\">68&nbsp;comments</a>              </td></tr>\n",
      "      <tr class=\"spacer\" style=\"height:5px\"></tr>\n",
      "                <tr class='athing' id='31559672'>\n",
      "      <td align=\"right\" valign=\"top\" class=\"title\"><span class=\"rank\">25.</span></td>      <td valign=\"top\" class=\"votelinks\"><center><a id='up_31559672'href='vote?id=31559672&amp;how=up&amp;goto=news'><div class='votearrow' title='upvote'></div></a></center></td><td class=\"title\"><a href=\"https://github.com/billwadge/pyLucid\" class=\"titlelink\">PyLucid: Lucid Interpreter Written in Python</a><span class=\"sitebit comhead\"> (<a href=\"from?site=github.com/billwadge\"><span class=\"sitestr\">github.com/billwadge</span></a>)</span></td></tr><tr><td colspan=\"2\"></td><td class=\"subtext\">\n",
      "        <span class=\"score\" id=\"score_31559672\">12 points</span> by <a href=\"user?id=webmaven\" class=\"hnuser\">webmaven</a> <span class=\"age\" title=\"2022-05-30T14:55:50\"><a href=\"item?id=31559672\">4 hours ago</a></span> <span id=\"unv_31559672\"></span> | <a href=\"hide?id=31559672&amp;goto=news\">hide</a> | <a href=\"item?id=31559672\">2&nbsp;comments</a>              </td></tr>\n",
      "      <tr class=\"spacer\" style=\"height:5px\"></tr>\n",
      "                <tr class='athing' id='31574601'>\n",
      "      <td align=\"right\" valign=\"top\" class=\"title\"><span class=\"rank\">26.</span></td>      <td valign=\"top\" class=\"votelinks\"><center><a id='up_31574601'href='vote?id=31574601&amp;how=up&amp;goto=news'><div class='votearrow' title='upvote'></div></a></center></td><td class=\"title\"><a href=\"https://www.classical-music.com/features/articles/just-how-important-is-eye-contact-between-musicians-and-what-does-it-signal/\" class=\"titlelink\">Eye contact between musicians</a><span class=\"sitebit comhead\"> (<a href=\"from?site=classical-music.com\"><span class=\"sitestr\">classical-music.com</span></a>)</span></td></tr><tr><td colspan=\"2\"></td><td class=\"subtext\">\n",
      "        <span class=\"score\" id=\"score_31574601\">89 points</span> by <a href=\"user?id=bookofjoe\" class=\"hnuser\">bookofjoe</a> <span class=\"age\" title=\"2022-05-31T20:35:58\"><a href=\"item?id=31574601\">13 hours ago</a></span> <span id=\"unv_31574601\"></span> | <a href=\"hide?id=31574601&amp;goto=news\">hide</a> | <a href=\"item?id=31574601\">66&nbsp;comments</a>              </td></tr>\n",
      "      <tr class=\"spacer\" style=\"height:5px\"></tr>\n",
      "                <tr class='athing' id='31573578'>\n",
      "      <td align=\"right\" valign=\"top\" class=\"title\"><span class=\"rank\">27.</span></td>      <td valign=\"top\" class=\"votelinks\"><center><a id='up_31573578'href='vote?id=31573578&amp;how=up&amp;goto=news'><div class='votearrow' title='upvote'></div></a></center></td><td class=\"title\"><a href=\"https://github.blog/changelog/2022-05-31-top-500-npm-package-maintainers-now-require-2fa/\" class=\"titlelink\">Top-500 NPM package maintainers now require 2FA</a><span class=\"sitebit comhead\"> (<a href=\"from?site=github.blog\"><span class=\"sitestr\">github.blog</span></a>)</span></td></tr><tr><td colspan=\"2\"></td><td class=\"subtext\">\n",
      "        <span class=\"score\" id=\"score_31573578\">115 points</span> by <a href=\"user?id=cute_boi\" class=\"hnuser\">cute_boi</a> <span class=\"age\" title=\"2022-05-31T19:10:28\"><a href=\"item?id=31573578\">15 hours ago</a></span> <span id=\"unv_31573578\"></span> | <a href=\"hide?id=31573578&amp;goto=news\">hide</a> | <a href=\"item?id=31573578\">63&nbsp;comments</a>              </td></tr>\n",
      "      <tr class=\"spacer\" style=\"height:5px\"></tr>\n",
      "                <tr class='athing' id='31577888'>\n",
      "      <td align=\"right\" valign=\"top\" class=\"title\"><span class=\"rank\">28.</span></td>      <td valign=\"top\" class=\"votelinks\"><center><a id='up_31577888'href='vote?id=31577888&amp;how=up&amp;goto=news'><div class='votearrow' title='upvote'></div></a></center></td><td class=\"title\"><a href=\"https://github.com/go-gitea/lgtm\" class=\"titlelink\">LGTM – A simple pull request approval system</a><span class=\"sitebit comhead\"> (<a href=\"from?site=github.com/go-gitea\"><span class=\"sitestr\">github.com/go-gitea</span></a>)</span></td></tr><tr><td colspan=\"2\"></td><td class=\"subtext\">\n",
      "        <span class=\"score\" id=\"score_31577888\">25 points</span> by <a href=\"user?id=0des\" class=\"hnuser\">0des</a> <span class=\"age\" title=\"2022-06-01T03:56:37\"><a href=\"item?id=31577888\">6 hours ago</a></span> <span id=\"unv_31577888\"></span> | <a href=\"hide?id=31577888&amp;goto=news\">hide</a> | <a href=\"item?id=31577888\">16&nbsp;comments</a>              </td></tr>\n",
      "      <tr class=\"spacer\" style=\"height:5px\"></tr>\n",
      "                <tr class='athing' id='31566208'>\n",
      "      <td align=\"right\" valign=\"top\" class=\"title\"><span class=\"rank\">29.</span></td>      <td valign=\"top\" class=\"votelinks\"><center><a id='up_31566208'href='vote?id=31566208&amp;how=up&amp;goto=news'><div class='votearrow' title='upvote'></div></a></center></td><td class=\"title\"><a href=\"https://blogs.bl.uk/asian-and-african/2022/05/the-nomadic-chemist-alfred-sercombe-griffin-1878-1943-and-burma.html\" class=\"titlelink\" rel=\"nofollow\">The Nomadic Chemist: Alfred Sercombe Griffin (1878-1943) and Burma</a><span class=\"sitebit comhead\"> (<a href=\"from?site=blogs.bl.uk\"><span class=\"sitestr\">blogs.bl.uk</span></a>)</span></td></tr><tr><td colspan=\"2\"></td><td class=\"subtext\">\n",
      "        <span class=\"score\" id=\"score_31566208\">5 points</span> by <a href=\"user?id=drdee\" class=\"hnuser\">drdee</a> <span class=\"age\" title=\"2022-05-31T04:49:03\"><a href=\"item?id=31566208\">3 hours ago</a></span> <span id=\"unv_31566208\"></span> | <a href=\"hide?id=31566208&amp;goto=news\">hide</a> | <a href=\"item?id=31566208\">discuss</a>              </td></tr>\n",
      "      <tr class=\"spacer\" style=\"height:5px\"></tr>\n",
      "                <tr class='athing' id='31557845'>\n",
      "      <td align=\"right\" valign=\"top\" class=\"title\"><span class=\"rank\">30.</span></td>      <td valign=\"top\" class=\"votelinks\"><center><a id='up_31557845'href='vote?id=31557845&amp;how=up&amp;goto=news'><div class='votearrow' title='upvote'></div></a></center></td><td class=\"title\"><a href=\"https://paddlingmag.com/skills/buying-advice/kayak-paddle-shaft-length/\" class=\"titlelink\">The industry has been sizing kayak paddles wrong</a><span class=\"sitebit comhead\"> (<a href=\"from?site=paddlingmag.com\"><span class=\"sitestr\">paddlingmag.com</span></a>)</span></td></tr><tr><td colspan=\"2\"></td><td class=\"subtext\">\n",
      "        <span class=\"score\" id=\"score_31557845\">100 points</span> by <a href=\"user?id=troydavis\" class=\"hnuser\">troydavis</a> <span class=\"age\" title=\"2022-05-30T11:23:32\"><a href=\"item?id=31557845\">14 hours ago</a></span> <span id=\"unv_31557845\"></span> | <a href=\"hide?id=31557845&amp;goto=news\">hide</a> | <a href=\"item?id=31557845\">42&nbsp;comments</a>              </td></tr>\n",
      "      <tr class=\"spacer\" style=\"height:5px\"></tr>\n",
      "            <tr class=\"morespace\" style=\"height:10px\"></tr><tr><td colspan=\"2\"></td>\n",
      "      <td class='title'><a href='news?p=2' class='morelink' rel='next'>More</a></td>    </tr>\n",
      "  </table>\n",
      "</td></tr>\n",
      "<tr><td><img src=\"s.gif\" height=\"10\" width=\"0\"><table width=\"100%\" cellspacing=\"0\" cellpadding=\"1\"><tr><td bgcolor=\"#ff6600\"></td></tr></table><br><center><span class=\"yclinks\"><a href=\"newsguidelines.html\">Guidelines</a>\n",
      "        | <a href=\"newsfaq.html\">FAQ</a>\n",
      "        | <a href=\"lists\">Lists</a>\n",
      "        | <a href=\"https://github.com/HackerNews/API\">API</a>\n",
      "        | <a href=\"security.html\">Security</a>\n",
      "        | <a href=\"http://www.ycombinator.com/legal/\">Legal</a>\n",
      "        | <a href=\"http://www.ycombinator.com/apply/\">Apply to YC</a>\n",
      "        | <a href=\"mailto:hn@ycombinator.com\">Contact</a></span><br><br><form method=\"get\" action=\"//hn.algolia.com/\">Search:\n",
      "          <input type=\"text\" name=\"q\" value=\"\" size=\"17\" autocorrect=\"off\" spellcheck=\"false\" autocapitalize=\"off\" autocomplete=\"false\"></form>\n",
      "            </center></td></tr>\n",
      "      </table></center></body><script type='text/javascript' src='hn.js?MjAzzpP8NY8TwKzaY8wl'></script></html>\n",
      "\n"
     ]
    }
   ],
   "source": [
    "print(response.text)      #requesting the module to get the html code of a particular website"
   ]
  },
  {
   "cell_type": "code",
   "execution_count": 5,
   "id": "dbe76687",
   "metadata": {},
   "outputs": [],
   "source": [
    "yc_web_page = response.text"
   ]
  },
  {
   "cell_type": "code",
   "execution_count": 6,
   "id": "e4be09e0",
   "metadata": {},
   "outputs": [],
   "source": [
    "soup = BeautifulSoup(yc_web_page, \"html.parser\")"
   ]
  },
  {
   "cell_type": "code",
   "execution_count": 7,
   "id": "f3f234b6",
   "metadata": {},
   "outputs": [
    {
     "name": "stdout",
     "output_type": "stream",
     "text": [
      "<title>Hacker News</title>\n"
     ]
    }
   ],
   "source": [
    "print(soup.title)"
   ]
  },
  {
   "cell_type": "code",
   "execution_count": 8,
   "id": "00b59cf1",
   "metadata": {},
   "outputs": [
    {
     "name": "stdout",
     "output_type": "stream",
     "text": [
      "<a class=\"titlelink\" href=\"https://www.githubstatus.com/incidents/8xxms3q3qzgp\">GitHub is having another outage</a>\n"
     ]
    }
   ],
   "source": [
    "#1st news article in the Hackers News page\n",
    "\n",
    "article_tag = soup.find(name=\"a\",class_=\"titlelink\")\n",
    "print(article_tag)"
   ]
  },
  {
   "cell_type": "code",
   "execution_count": 9,
   "id": "6b9a7f1e",
   "metadata": {},
   "outputs": [
    {
     "name": "stdout",
     "output_type": "stream",
     "text": [
      "GitHub is having another outage\n"
     ]
    }
   ],
   "source": [
    "#Want to get only text from 1st news article\n",
    "\n",
    "article_text = article_tag.getText()\n",
    "print(article_tag.getText())"
   ]
  },
  {
   "cell_type": "code",
   "execution_count": 10,
   "id": "9f8882f5",
   "metadata": {},
   "outputs": [
    {
     "name": "stdout",
     "output_type": "stream",
     "text": [
      "https://www.githubstatus.com/incidents/8xxms3q3qzgp\n"
     ]
    }
   ],
   "source": [
    "#Want to get only link from 1st news article\n",
    " \n",
    "article_link = article_tag.get(\"href\")\n",
    "print(article_link)"
   ]
  },
  {
   "cell_type": "code",
   "execution_count": 11,
   "id": "d30d9a4c",
   "metadata": {},
   "outputs": [
    {
     "name": "stdout",
     "output_type": "stream",
     "text": [
      "21 points\n"
     ]
    }
   ],
   "source": [
    "#Want to get only the upvotes from the 1st article\n",
    "\n",
    "article_upvote = soup.find(name = \"span\",class_= \"score\").getText()\n",
    "print(article_upvote)"
   ]
  },
  {
   "cell_type": "code",
   "execution_count": 14,
   "id": "d203bd6d",
   "metadata": {},
   "outputs": [
    {
     "name": "stdout",
     "output_type": "stream",
     "text": [
      "['GitHub is having another outage', 'What Good, Cash-Strapped Hiring Looks Like', 'Science needs more research software engineers', 'Modern TUI calendar and task manager with customizable interface', 'Find Wikipedia photos needed near you', 'Framework laptop water damage repair attempt using partial schematic [video]', \"Switzerland's Ingenious Cooling Caves\", 'Teleforking a Process onto a Different Computer', 'I got hacked and Facebook banned me', 'Modern CSV Version 2 Beta is now available', 'Remembering Apple’s Newton, 30 years on', 'Documenting Design Decisions Using RFCs and ADRs (2020)', 'PhotoRoom Is Hiring a Senior Web Developer (WebAssembly, WebGL and React) in Paris', 'The Pit, the Cabin, and the Dance Floor (2020)', 'Tech experts urge Washington to resist crypto industry’s influence', 'Show HN: I made React with a faster Virtual DOM', 'Plain Text Calendar', 'Legends Solar – Buy operating solar panels on commercial solar farms', \"Lunatic brings Erlang's principles to WebAssembly\", 'Build your own FPGA (2012)', 'Show HN: Can you lose at Wordle if you tried?', 'Algebraic Data Types in Elixir', 'Einstein: NewtonOS running on other operating systems', 'Why Darwin failed (2006)', 'PyLucid: Lucid Interpreter Written in Python', 'Eye contact between musicians', 'Top-500 NPM package maintainers now require 2FA', 'LGTM – A simple pull request approval system', 'The Nomadic Chemist: Alfred Sercombe Griffin (1878-1943) and Burma', 'The industry has been sizing kayak paddles wrong']\n",
      "['https://www.githubstatus.com/incidents/8xxms3q3qzgp', 'https://commoncog.com/blog/cash-strapped-hiring/', 'https://www.nature.com/articles/d41586-022-01516-2', 'https://github.com/anufrievroman/calcure', 'https://wikishootme.toolforge.org/', 'https://www.youtube.com/watch?v=ijRUsxdaLK4', 'https://www.bbc.com/travel/article/20220529-switzerlands-ingenious-cooling-caves', 'https://thume.ca/2020/04/18/telefork-forking-a-process-onto-a-different-computer/', 'https://emilycordes.com/facebook/', 'https://www.moderncsv.com/beta/', 'https://arstechnica.com/gadgets/2022/05/remembering-apples-newton-30-years-on/', 'https://brunoscheufler.com/blog/2020-07-04-documenting-design-decisions-using-rfcs-and-adrs', 'https://jobs.lever.co/photoroom/ac3a361b-aa5e-479d-95d6-434d73e6eb33?lever-origin=applied&lever-source%5B%5D=Ycombinator', 'http://jamie-wong.com/post/the-pit/', 'https://www.ft.com/content/f4b2fa1a-4057-4b10-9f3b-efa57e6bcbac', 'item?id=31576634', 'https://terokarvinen.com/2021/calendar-txt/', 'https://www.legends.solar/', 'https://serokell.io/blog/lunatic-with-bernard-kolobara', 'http://blog.notdot.net/2012/10/Build-your-own-FPGA', 'https://dontwordle.com/', 'https://blog.appsignal.com/2022/05/31/algebraic-data-types-in-elixir.html', 'https://github.com/pguyot/Einstein', 'http://www.synack.net/~bbraun/writing/osfail.html', 'https://github.com/billwadge/pyLucid', 'https://www.classical-music.com/features/articles/just-how-important-is-eye-contact-between-musicians-and-what-does-it-signal/', 'https://github.blog/changelog/2022-05-31-top-500-npm-package-maintainers-now-require-2fa/', 'https://github.com/go-gitea/lgtm', 'https://blogs.bl.uk/asian-and-african/2022/05/the-nomadic-chemist-alfred-sercombe-griffin-1878-1943-and-burma.html', 'https://paddlingmag.com/skills/buying-advice/kayak-paddle-shaft-length/']\n",
      "['21 points', '62 points', '303 points', '121 points', '255 points', '181 points', '16 points', '177 points', '216 points', '141 points', '189 points', '44 points', '37 points', '36 points', '65 points', '164 points', '163 points', '120 points', '3 points', '579 points', '63 points', '61 points', '78 points', '12 points', '89 points', '115 points', '25 points', '5 points', '100 points']\n"
     ]
    }
   ],
   "source": [
    "#To get a list of all the articles \n",
    "\n",
    "\n",
    "articles = soup.find_all(name=\"a\",class_=\"titlelink\")\n",
    "article_texts = []\n",
    "article_links = []\n",
    "for article_tag in articles:\n",
    "    text = article_tag.getText()\n",
    "    article_texts.append(text)\n",
    "    link = article_tag.get(\"href\")\n",
    "    article_links.append(link)\n",
    "    \n",
    "article_upvotes = [score.getText() for score in soup.find_all(name = \"span\",class_= \"score\")]\n",
    "\n",
    "print(article_texts)\n",
    "print(article_links)\n",
    "print(article_upvotes)"
   ]
  },
  {
   "cell_type": "code",
   "execution_count": 19,
   "id": "63ad0074",
   "metadata": {},
   "outputs": [
    {
     "name": "stdout",
     "output_type": "stream",
     "text": [
      "21 points\n"
     ]
    }
   ],
   "source": [
    "#Want to get only the points from the 1st article\n",
    "\n",
    "print(article_upvotes[0])   "
   ]
  },
  {
   "cell_type": "code",
   "execution_count": 20,
   "id": "bdf8cd8d",
   "metadata": {},
   "outputs": [
    {
     "name": "stdout",
     "output_type": "stream",
     "text": [
      "['21', 'points']\n"
     ]
    }
   ],
   "source": [
    "#using split function\n",
    "\n",
    "print(article_upvotes[0].split())   "
   ]
  },
  {
   "cell_type": "code",
   "execution_count": 22,
   "id": "4703571f",
   "metadata": {},
   "outputs": [
    {
     "name": "stdout",
     "output_type": "stream",
     "text": [
      "21\n"
     ]
    }
   ],
   "source": [
    "#Want only the integer part from the 1st article\n",
    "\n",
    "print(int(article_upvotes[0].split()[0]))"
   ]
  },
  {
   "cell_type": "code",
   "execution_count": 23,
   "id": "90ce338a",
   "metadata": {},
   "outputs": [
    {
     "name": "stdout",
     "output_type": "stream",
     "text": [
      "[21, 62, 303, 121, 255, 181, 16, 177, 216, 141, 189, 44, 37, 36, 65, 164, 163, 120, 3, 579, 63, 61, 78, 12, 89, 115, 25, 5, 100]\n"
     ]
    }
   ],
   "source": [
    "#getting all the points from the list\n",
    "\n",
    "article_upvotes = [int(score.getText().split()[0]) for score in soup.find_all(name = \"span\",class_= \"score\")]\n",
    "print(article_upvotes)"
   ]
  },
  {
   "cell_type": "code",
   "execution_count": 24,
   "id": "0f80eafe",
   "metadata": {},
   "outputs": [
    {
     "name": "stdout",
     "output_type": "stream",
     "text": [
      "579\n"
     ]
    }
   ],
   "source": [
    "#finding the maximum upvotes from the list\n",
    "\n",
    "largest_number = max(article_upvotes)\n",
    "print(largest_number)"
   ]
  },
  {
   "cell_type": "code",
   "execution_count": 27,
   "id": "51489931",
   "metadata": {},
   "outputs": [
    {
     "name": "stdout",
     "output_type": "stream",
     "text": [
      "Build your own FPGA (2012)\n",
      "http://blog.notdot.net/2012/10/Build-your-own-FPGA\n"
     ]
    }
   ],
   "source": [
    "#finding out the maximum upvotes with the title and the link \n",
    "\n",
    "largest_number = max(article_upvotes)\n",
    "largest_index = article_upvotes.index(largest_number)\n",
    "print(article_texts[largest_index])\n",
    "print(article_links[largest_index])"
   ]
  },
  {
   "cell_type": "code",
   "execution_count": null,
   "id": "dabee9c0",
   "metadata": {},
   "outputs": [],
   "source": []
  }
 ],
 "metadata": {
  "kernelspec": {
   "display_name": "Python 3 (ipykernel)",
   "language": "python",
   "name": "python3"
  },
  "language_info": {
   "codemirror_mode": {
    "name": "ipython",
    "version": 3
   },
   "file_extension": ".py",
   "mimetype": "text/x-python",
   "name": "python",
   "nbconvert_exporter": "python",
   "pygments_lexer": "ipython3",
   "version": "3.9.7"
  }
 },
 "nbformat": 4,
 "nbformat_minor": 5
}
